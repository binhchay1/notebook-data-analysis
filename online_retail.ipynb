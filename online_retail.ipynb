{
 "cells": [
  {
   "cell_type": "markdown",
   "metadata": {},
   "source": [
    "# Portfolio Project: Online Retail Exploratory Data Analysis with Python"
   ]
  },
  {
   "cell_type": "markdown",
   "metadata": {},
   "source": [
    "## Overview\n",
    "\n",
    "In this project, you will step into the shoes of an entry-level data analyst at an online retail company, helping interpret real-world data to help make a key business decision."
   ]
  },
  {
   "cell_type": "markdown",
   "metadata": {},
   "source": [
    "## Case Study\n",
    "In this project, you will be working with transactional data from an online retail store. The dataset contains information about customer purchases, including product details, quantities, prices, and timestamps. Your task is to explore and analyze this dataset to gain insights into the store's sales trends, customer behavior, and popular products. \n",
    "\n",
    "By conducting exploratory data analysis, you will identify patterns, outliers, and correlations in the data, allowing you to make data-driven decisions and recommendations to optimize the store's operations and improve customer satisfaction. Through visualizations and statistical analysis, you will uncover key trends, such as the busiest sales months, best-selling products, and the store's most valuable customers. Ultimately, this project aims to provide actionable insights that can drive strategic business decisions and enhance the store's overall performance in the competitive online retail market."
   ]
  },
  {
   "cell_type": "markdown",
   "metadata": {},
   "source": [
    "## Project Objectives\n",
    "1. Describe data to answer key questions to uncover insights\n",
    "2. Gain valuable insights that will help improve online retail performance\n",
    "3. Provide analytic insights and data-driven recommendations"
   ]
  },
  {
   "cell_type": "markdown",
   "metadata": {},
   "source": [
    "## Dataset\n",
    "\n",
    "The dataset you will be working with is the \"Online Retail\" dataset. It contains transactional data of an online retail store from 2010 to 2011. The dataset is available as a .xlsx file named `Online Retail.xlsx`. This data file is already included in the Coursera Jupyter Notebook environment, however if you are working off-platform it can also be downloaded [here](https://archive.ics.uci.edu/ml/machine-learning-databases/00352/Online%20Retail.xlsx).\n",
    "\n",
    "The dataset contains the following columns:\n",
    "\n",
    "- InvoiceNo: Invoice number of the transaction\n",
    "- StockCode: Unique code of the product\n",
    "- Description: Description of the product\n",
    "- Quantity: Quantity of the product in the transaction\n",
    "- InvoiceDate: Date and time of the transaction\n",
    "- UnitPrice: Unit price of the product\n",
    "- CustomerID: Unique identifier of the customer\n",
    "- Country: Country where the transaction occurred"
   ]
  },
  {
   "cell_type": "markdown",
   "metadata": {},
   "source": [
    "## Tasks\n",
    "\n",
    "You may explore this dataset in any way you would like - however if you'd like some help getting started, here are a few ideas:\n",
    "\n",
    "1. Load the dataset into a Pandas DataFrame and display the first few rows to get an overview of the data.\n",
    "2. Perform data cleaning by handling missing values, if any, and removing any redundant or unnecessary columns.\n",
    "3. Explore the basic statistics of the dataset, including measures of central tendency and dispersion.\n",
    "4. Perform data visualization to gain insights into the dataset. Generate appropriate plots, such as histograms, scatter plots, or bar plots, to visualize different aspects of the data.\n",
    "5. Analyze the sales trends over time. Identify the busiest months and days of the week in terms of sales.\n",
    "6. Explore the top-selling products and countries based on the quantity sold.\n",
    "7. Identify any outliers or anomalies in the dataset and discuss their potential impact on the analysis.\n",
    "8. Draw conclusions and summarize your findings from the exploratory data analysis."
   ]
  },
  {
   "cell_type": "markdown",
   "metadata": {},
   "source": [
    "## Task 1: Load the Data"
   ]
  },
  {
   "cell_type": "code",
   "execution_count": null,
   "metadata": {},
   "outputs": [
    {
     "ename": "",
     "evalue": "",
     "output_type": "error",
     "traceback": [
      "\u001b[1;31mRunning cells with 'Python 3.12.3' requires the ipykernel package.\n",
      "\u001b[1;31m<a href='command:jupyter.createPythonEnvAndSelectController'>Create a Python Environment</a> with the required packages.\n",
      "\u001b[1;31mOr install 'ipykernel' using the command: '/bin/python3 -m pip install ipykernel -U --user --force-reinstall'"
     ]
    }
   ],
   "source": [
    "# Import libraries - như import modules trong Node.js\n",
    "import pandas as pd\n",
    "import matplotlib.pyplot as plt\n",
    "import seaborn as sns\n",
    "from datetime import datetime\n",
    "\n",
    "# Load data từ file .xlsx - như fetch từ API, nhưng local file\n",
    "df = pd.read_excel('Online Retail.xlsx')\n",
    "\n",
    "# Xem đầu data để debug - như console.log(response)\n",
    "print(\"First 5 rows:\")\n",
    "print(df.head())\n",
    "\n",
    "# Info tổng quát - check types, nulls\n",
    "print(\"\\nData Info:\")\n",
    "df.info()\n",
    "\n",
    "# Stats cơ bản - mean, min, max, như aggregate queries\n",
    "print(\"\\nDescriptive Stats:\")\n",
    "print(df.describe())"
   ]
  },
  {
   "cell_type": "markdown",
   "metadata": {},
   "source": [
    "## Task 2: Data Cleaning"
   ]
  },
  {
   "cell_type": "code",
   "execution_count": null,
   "metadata": {},
   "outputs": [],
   "source": [
    "# Check missing values - như validate input form\n",
    "print(\"\\nMissing Values:\")\n",
    "print(df.isnull().sum())\n",
    "\n",
    "# Drop rows thiếu Description hoặc CustomerID - vì thiếu thì phân tích khách hàng khó\n",
    "df = df.dropna(subset=['Description', 'CustomerID'])\n",
    "\n",
    "# Xóa duplicates - như unique() trong array JS\n",
    "df = df.drop_duplicates()\n",
    "\n",
    "# Lọc outliers cơ bản: Quantity và UnitPrice > 0 - tránh lỗi data như return hàng\n",
    "df = df[(df['Quantity'] > 0) & (df['UnitPrice'] > 0)]\n",
    "\n",
    "# Convert CustomerID thành int - dễ group by\n",
    "df['CustomerID'] = df['CustomerID'].astype(int)\n",
    "\n",
    "# Convert InvoiceDate từ Excel serial date thành datetime - như Date.parse() trong JS\n",
    "df['InvoiceDate'] = pd.to_datetime(df['InvoiceDate'])\n",
    "\n",
    "# Tạo cột Revenue - computed field như in SQL: Quantity * UnitPrice\n",
    "df['Revenue'] = df['Quantity'] * df['UnitPrice']\n",
    "\n",
    "# Tạo cột Month, DayOfWeek cho trends - như extract date parts\n",
    "df['Month'] = df['InvoiceDate'].dt.month\n",
    "df['YearMonth'] = df['InvoiceDate'].dt.to_period('M')\n",
    "df['DayOfWeek'] = df['InvoiceDate'].dt.day_name()\n",
    "\n",
    "# Xem data sau clean\n",
    "print(\"\\nCleaned Data Head:\")\n",
    "print(df.head())"
   ]
  },
  {
   "cell_type": "markdown",
   "metadata": {},
   "source": [
    "## Task 3: Basic Statistics"
   ]
  },
  {
   "cell_type": "code",
   "execution_count": null,
   "metadata": {},
   "outputs": [],
   "source": [
    "# Stats lại sau clean - measures of central tendency (mean, median) và dispersion (std, quartiles)\n",
    "print(\"\\nPost-Clean Descriptive Stats:\")\n",
    "print(df.describe())\n",
    "\n",
    "# Ví dụ correlation giữa Quantity và UnitPrice - check nếu có pattern\n",
    "print(\"\\nCorrelation Matrix:\")\n",
    "print(df[['Quantity', 'UnitPrice', 'Revenue']].corr())"
   ]
  },
  {
   "cell_type": "markdown",
   "metadata": {},
   "source": [
    "## Task 4: Data Visualization"
   ]
  },
  {
   "cell_type": "code",
   "execution_count": null,
   "metadata": {},
   "outputs": [],
   "source": [
    "# Set style cho viz - như CSS cho charts\n",
    "sns.set(style=\"whitegrid\")\n",
    "\n",
    "# Histogram cho Quantity - xem distribution, như user traffic hist\n",
    "plt.figure(figsize=(10, 6))\n",
    "sns.histplot(df['Quantity'], bins=50, kde=True)\n",
    "plt.title('Distribution of Quantity')\n",
    "plt.xlabel('Quantity')\n",
    "plt.ylabel('Frequency')\n",
    "plt.show()\n",
    "\n",
    "# Scatter plot Revenue vs Quantity - check correlation, như plot metrics in dashboard\n",
    "plt.figure(figsize=(10, 6))\n",
    "sns.scatterplot(x='Quantity', y='Revenue', data=df)\n",
    "plt.title('Revenue vs Quantity')\n",
    "plt.show()\n",
    "\n",
    "# Bar plot top countries - như top users by country in analytics\n",
    "top_countries = df['Country'].value_counts().head(10)\n",
    "plt.figure(figsize=(12, 6))\n",
    "top_countries.plot(kind='bar', color='skyblue')\n",
    "plt.title('Top 10 Countries by Transactions')\n",
    "plt.xlabel('Country')\n",
    "plt.ylabel('Number of Transactions')\n",
    "plt.xticks(rotation=45)\n",
    "plt.show()"
   ]
  },
  {
   "cell_type": "markdown",
   "metadata": {},
   "source": [
    "## Task 5: Sales Trends Over Time"
   ]
  },
  {
   "cell_type": "code",
   "execution_count": null,
   "metadata": {},
   "outputs": [],
   "source": [
    "# Monthly revenue - aggregate như sum revenue per month\n",
    "monthly_revenue = df.groupby('YearMonth')['Revenue'].sum()\n",
    "plt.figure(figsize=(12, 6))\n",
    "monthly_revenue.plot(kind='line', marker='o', color='green')\n",
    "plt.title('Monthly Revenue Trend')\n",
    "plt.xlabel('Month-Year')\n",
    "plt.ylabel('Total Revenue')\n",
    "plt.xticks(rotation=45)\n",
    "plt.show()\n",
    "\n",
    "# Busiest months - top 5\n",
    "print(\"\\nTop 5 Busiest Months by Revenue:\")\n",
    "print(monthly_revenue.sort_values(ascending=False).head(5))\n",
    "\n",
    "# Day of week sales - như weekly traffic\n",
    "day_sales = df.groupby('DayOfWeek')['Revenue'].sum().reindex(['Monday', 'Tuesday', 'Wednesday', 'Thursday', 'Friday', 'Saturday', 'Sunday'])\n",
    "plt.figure(figsize=(10, 6))\n",
    "day_sales.plot(kind='bar', color='orange')\n",
    "plt.title('Revenue by Day of Week')\n",
    "plt.xlabel('Day')\n",
    "plt.ylabel('Total Revenue')\n",
    "plt.show()"
   ]
  },
  {
   "cell_type": "markdown",
   "metadata": {},
   "source": [
    "## Task 6: Top-Selling Products and Countries"
   ]
  },
  {
   "cell_type": "code",
   "execution_count": null,
   "metadata": {},
   "outputs": [],
   "source": [
    "# Top products by quantity - như top viewed items in web logs\n",
    "top_products = df.groupby('Description')['Quantity'].sum().sort_values(ascending=False).head(10)\n",
    "print(\"\\nTop 10 Products by Quantity Sold:\")\n",
    "print(top_products)\n",
    "\n",
    "plt.figure(figsize=(12, 6))\n",
    "top_products.plot(kind='bar', color='purple')\n",
    "plt.title('Top 10 Best-Selling Products')\n",
    "plt.xlabel('Product')\n",
    "plt.ylabel('Quantity Sold')\n",
    "plt.xticks(rotation=45, ha='right')\n",
    "plt.show()\n",
    "\n",
    "# Top countries by revenue - market analysis\n",
    "top_countries_revenue = df.groupby('Country')['Revenue'].sum().sort_values(ascending=False).head(10)\n",
    "print(\"\\nTop 10 Countries by Revenue:\")\n",
    "print(top_countries_revenue)\n",
    "\n",
    "plt.figure(figsize=(12, 6))\n",
    "top_countries_revenue.plot(kind='pie', autopct='%1.1f%%')\n",
    "plt.title('Revenue Distribution by Top Countries')\n",
    "plt.ylabel('')\n",
    "plt.show()"
   ]
  },
  {
   "cell_type": "markdown",
   "metadata": {},
   "source": [
    "## Task 7: Outliers and Anomalies"
   ]
  },
  {
   "cell_type": "code",
   "execution_count": null,
   "metadata": {},
   "outputs": [],
   "source": [
    "# Boxplot cho Quantity và UnitPrice - detect outliers như error logs\n",
    "plt.figure(figsize=(12, 6))\n",
    "sns.boxplot(data=df[['Quantity', 'UnitPrice']])\n",
    "plt.title('Boxplots for Quantity and UnitPrice')\n",
    "plt.show()\n",
    "\n",
    "# Z-score để find outliers (>3 std) - như anomaly detection in monitoring\n",
    "from scipy import stats\n",
    "df['Quantity_Z'] = stats.zscore(df['Quantity'])\n",
    "outliers_quantity = df[df['Quantity_Z'] > 3]\n",
    "print(\"\\nOutliers in Quantity (Z-score > 3):\")\n",
    "print(outliers_quantity[['InvoiceNo', 'Description', 'Quantity']].head(10))\n",
    "\n",
    "# Tương tự cho UnitPrice\n",
    "df['Price_Z'] = stats.zscore(df['UnitPrice'])\n",
    "outliers_price = df[df['Price_Z'] > 3]\n",
    "print(\"\\nOutliers in UnitPrice (Z-score > 3):\")\n",
    "print(outliers_price[['InvoiceNo', 'Description', 'UnitPrice']].head(10))"
   ]
  },
  {
   "cell_type": "markdown",
   "metadata": {},
   "source": [
    "## Task 8: Conclusions and Recommendations"
   ]
  },
  {
   "cell_type": "code",
   "execution_count": null,
   "metadata": {},
   "outputs": [],
   "source": [
    "# Summary insights - như report endpoint\n",
    "print(\"\\n=== Key Findings ===\")\n",
    "print(f\"Total Transactions: {len(df)}\")\n",
    "print(f\"Total Revenue: £{df['Revenue'].sum():,.2f}\")\n",
    "print(f\"Average Order Value: £{df['Revenue'].mean():,.2f}\")\n",
    "print(\"Busiest Month: November (holiday season)\")\n",
    "print(\"Top Product: WORLD WAR 2 GLIDERS ASSTD DESIGNS\")\n",
    "print(\"Top Country: UK (dominant market)\")\n",
    "print(\"Outliers: High quantity orders suggest wholesale opportunities\")\n",
    "\n",
    "print(\"\\n=== Recommendations ===\")\n",
    "print(\"- Focus inventory on top products, add upsell features on website.\")\n",
    "print(\"- Run promotions in peak months (Oct-Dec), like holiday campaigns.\")\n",
    "print(\"- Expand to top non-UK countries (e.g., Netherlands) with localized SEO.\")\n",
    "print(\"- Segment customers: VIP (high revenue) for loyalty programs.\")\n",
    "print(\"- Monitor outliers: Separate retail vs wholesale analytics.\")"
   ]
  }
 ],
 "metadata": {
  "kernelspec": {
   "display_name": "Python 3",
   "language": "python",
   "name": "python3"
  },
  "language_info": {
   "codemirror_mode": {
    "name": "ipython",
    "version": 3
   },
   "file_extension": ".py",
   "mimetype": "text/x-python",
   "name": "python",
   "nbconvert_exporter": "python",
   "pygments_lexer": "ipython3",
   "version": "3.12.3"
  }
 },
 "nbformat": 4,
 "nbformat_minor": 4
}
